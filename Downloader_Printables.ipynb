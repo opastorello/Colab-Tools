{
  "cells": [
    {
      "cell_type": "code",
      "execution_count": 3,
      "metadata": {
        "id": "FkIxwFhEKyht",
        "colab": {
          "base_uri": "https://localhost:8080/"
        },
        "outputId": "3a717d57-0d82-4999-a399-4e9520a43893",
        "cellView": "form"
      },
      "outputs": [
        {
          "output_type": "stream",
          "name": "stdout",
          "text": [
            "Mounted at /content/drive\n"
          ]
        }
      ],
      "source": [
        "#@title Monte o Google Drive\n",
        "from google.colab import drive\n",
        "\n",
        "drive.mount('/content/drive', force_remount=True)"
      ]
    },
    {
      "cell_type": "code",
      "execution_count": 4,
      "metadata": {
        "id": "sA6Us8NFLXAR",
        "cellView": "form"
      },
      "outputs": [],
      "source": [
        "#@title Instalar Modulos necessarios \n",
        "\n",
        "!pip install selenium\n",
        "!apt install chromium-chromedriver\n",
        "from google.colab import output; import os\n",
        "output.clear()\n"
      ]
    },
    {
      "cell_type": "code",
      "execution_count": null,
      "metadata": {
        "id": "YPcKOFzzGw7r",
        "colab": {
          "base_uri": "https://localhost:8080/"
        },
        "outputId": "52f9b6f4-cd75-4c2e-8e3b-33e4630ffbf7",
        "cellView": "form"
      }, 
      "outputs": [],
      "source": [
        "#@title Downloader Printables\n",
        "\n",
        "URL_MODELS = 'https://www.printables.com/social/61-fotis-mint/models' #@param {type:\"string\"}\n",
        "SAVE_PATH = '/content/drive/MyDrive/Modelos3D' #@param {type:\"string\"}\n",
        "from google.colab import output; import os\n",
        "\n",
        "os.chdir(SAVE_PATH)\n",
        "\n",
        "import requests\n",
        "import shutil\n",
        "from time import sleep\n",
        "from selenium import webdriver\n",
        "from selenium.webdriver import Chrome\n",
        "from selenium.webdriver.chrome.options import Options\n",
        "from selenium.webdriver.chrome import service as fs\n",
        "from selenium.webdriver.support import expected_conditions as EC\n",
        "from selenium.webdriver.common.by import By\n",
        "from selenium.webdriver.support.wait import WebDriverWait\n",
        "from selenium.common.exceptions import NoSuchElementException\n",
        "from selenium.common.exceptions import TimeoutException\n",
        "from selenium.common.exceptions import ElementClickInterceptedException\n",
        "from selenium.common.exceptions import ElementNotInteractableException\n",
        "\n",
        "mobile_emulation = {\n",
        "  \"deviceMetrics\": { \"width\": 375, \"height\": 812, \"pixelRatio\": 3.0 },\n",
        "  \"userAgent\": \"Mozilla/5.0 (Linux; Android 4.2.1; en-us; Nexus 5 Build/JOP40D) AppleWebKit/535.19 (KHTML, like Gecko) Chrome/18.0.1025.166 Mobile Safari/535.19\",\n",
        "  \"touch\": \"true\"\n",
        "}\n",
        "\n",
        "chrome_options = webdriver.ChromeOptions()\n",
        "chrome_options.add_argument('--headless')\n",
        "chrome_options.add_argument('--no-sandbox')\n",
        "chrome_options.add_argument('--disable-dev-shm-usage')\n",
        "chrome_options.add_experimental_option(\"mobileEmulation\", mobile_emulation)\n",
        "browser = webdriver.Chrome(chrome_options=chrome_options)\n",
        "browser.get(URL_MODELS)\n",
        "\n",
        "WebDriverWait(browser, 5).until(EC.presence_of_element_located((By.XPATH, r\"//button[contains(text(), 'I am OK with that')]\"))).click()\n",
        "\n",
        "while True:\n",
        "  browser.execute_script(\"window.scrollBy(0,10000)\") \n",
        "  try:\n",
        "    WebDriverWait(browser, 2).until(EC.presence_of_element_located((By.XPATH, r\"//span[contains(text(), 'All models loaded')]\")))\n",
        "    break\n",
        "  except:\n",
        "    pass\n",
        "\n",
        "link_modelos = []\n",
        "modelos = browser.find_elements(By.XPATH, \"//a[@class='link clamp-two-lines']\")\n",
        "for modelo in modelos:\n",
        "  print(modelo.get_attribute('href'))\n",
        "  link_modelos.append(modelo.get_attribute('href'))\n",
        "\n",
        "output.clear()\n",
        "\n",
        "link_arquivos = []\n",
        "for arquivo in link_modelos:\n",
        "  try:\n",
        "    browser.get(arquivo)\n",
        "\n",
        "    try:\n",
        "      WebDriverWait(browser, 10).until(EC.presence_of_element_located((By.XPATH, r\"//span[contains(text(), 'Download')]\"))).click()\n",
        "    except:\n",
        "      pass\n",
        "\n",
        "    try:\n",
        "      WebDriverWait(browser, 10).until(EC.presence_of_element_located((By.XPATH, r\"//a[@class='btn btn-outline']\")))\n",
        "      arquivos = browser.find_elements(By.XPATH, \"//a[@class='btn btn-outline']\")\n",
        "      for arquivo in arquivos:\n",
        "        print(arquivo.get_attribute('href'))\n",
        "        link_arquivos.append(arquivo.get_attribute('href'))\n",
        "    except:\n",
        "      pass\n",
        "\n",
        "  except:\n",
        "    pass\n",
        "\n",
        "output.clear()\n",
        "\n",
        "for url in link_arquivos: \n",
        "  res = requests.get(url, stream=True)\n",
        "  filename = url.split('/')[-1]\n",
        "  if res.status_code == 200:\n",
        "      with open(filename, 'wb') as fh:\n",
        "          res.raw.decode_content\n",
        "          shutil.copyfileobj(res.raw, fh)\n",
        "\n",
        "output.clear()\n",
        "\n",
        "print(\"Download Finalizado, verifique na pasta informada\")\n",
        "%ls"
      ]
    },
    {
      "cell_type": "code",
      "execution_count": 5,
      "metadata": {
        "id": "13Boq8vl0ObO",
        "cellView": "form",
        "colab": {
          "base_uri": "https://localhost:8080/"
        },
        "outputId": "ce5ed309-ff12-4f45-c4c1-edb91d8b2881"
      },
      "outputs": [
        {
          "output_type": "stream",
          "name": "stdout",
          "text": [
            "PING : 18 ms\n",
            "DOWNLOAD : 1674 Mbps\n",
            "UPLOAD : 754 Mbps\n"
          ]
        }
      ],
      "source": [
        "#@title Teste de Velocidade \n",
        "!pip install speedtest-cli\n",
        "from google.colab import output; import speedtest\n",
        "\n",
        "s = speedtest.Speedtest()\n",
        "s.get_servers()\n",
        "s.get_best_server()\n",
        "\n",
        "ping = round(s.results.ping)\n",
        "velocidade_download = round(s.download(threads=None)*(10**-6))\n",
        "velocidade_upload = round(s.upload(threads=None)*(10**-6))\n",
        "\n",
        "output.clear()\n",
        "\n",
        "print('PING : {} ms\\nDOWNLOAD : {} Mbps\\nUPLOAD : {} Mbps'.format(ping, velocidade_download, velocidade_upload))"
      ]
    }
  ],
  "metadata": {
    "colab": {
      "provenance": []
    },
    "kernelspec": {
      "display_name": "Python 3",
      "name": "python3"
    },
    "language_info": {
      "name": "python"
    }
  },
  "nbformat": 4,
  "nbformat_minor": 0
}

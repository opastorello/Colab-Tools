{
  "cells": [
    {
      "cell_type": "code",
      "execution_count": 3,
      "metadata": {
        "id": "FkIxwFhEKyht",
        "colab": {
          "base_uri": "https://localhost:8080/"
        },
        "outputId": "3a717d57-0d82-4999-a399-4e9520a43893",
        "cellView": "form"
      },
      "outputs": [
        {
          "output_type": "stream",
          "name": "stdout",
          "text": [
            "Mounted at /content/drive\n"
          ]
        }
      ],
      "source": [
        "#@title Monte o Google Drive\n",
        "from google.colab import drive\n",
        "\n",
        "drive.mount('/content/drive', force_remount=True)"
      ]
    },
    {
      "cell_type": "code",
      "execution_count": 4,
      "metadata": {
        "id": "sA6Us8NFLXAR",
        "cellView": "form"
      },
      "outputs": [],
      "source": [
        "#@title Instalar Modulos necessarios \n",
        "\n",
        "!pip install selenium\n",
        "!apt install chromium-chromedriver\n",
        "from google.colab import output; import os\n",
        "output.clear()\n"
      ]
    },
    {
      "cell_type": "code",
      "execution_count": null,
      "metadata": {
        "id": "YPcKOFzzGw7r",
        "colab": {
          "base_uri": "https://localhost:8080/"
        },
        "outputId": "52f9b6f4-cd75-4c2e-8e3b-33e4630ffbf7",
        "cellView": "form"
      },
      "outputs": [
        {
          "output_type": "stream",
          "name": "stdout",
          "text": [
            "https://files.printables.com/media/prints/347970/packs/1659691_20c568b8-f137-4802-8451-3ac516d56c18/thrall-bust-wow-model_files.zip\n",
            "https://files.printables.com/media/prints/347970/packs/1659692_f925ca18-1000-4df2-a773-355e34f2a207/thrall-bust-wow-other_files.zip\n",
            "https://files.printables.com/media/prints/348036/packs/1659693_5466249d-1e20-4e65-85f2-0610d62f3e88/v-bust-model_files.zip\n",
            "https://files.printables.com/media/prints/348036/packs/1659694_da029725-ab30-4935-b7ac-9982432353e7/v-bust-other_files.zip\n",
            "https://files.printables.com/media/prints/348034/packs/1659695_66d4d4d3-fc7c-4b46-9d6e-21d78ec7f5c5/goblin-king-bust-model_files.zip\n",
            "https://files.printables.com/media/prints/348034/packs/1659696_57d78a0a-bbdb-4d7a-9741-77d3f3c48f42/goblin-king-bust-other_files.zip\n",
            "https://files.printables.com/media/prints/348031/packs/1659699_277a8a36-50a0-4d47-b5cb-19394e76df51/deathwing-figure-model_files.zip\n",
            "https://files.printables.com/media/prints/348031/packs/1659700_0ded528a-b4e2-49db-9bb8-42eb6e38507b/deathwing-figure-other_files.zip\n",
            "https://files.printables.com/media/prints/348018/packs/1659703_0c7db5ee-3d6f-45cc-a460-9cf4eff570e6/rancor-bust-model_files.zip\n",
            "https://files.printables.com/media/prints/348018/packs/1659704_1e20e9d3-7787-42e7-bfd7-1a8b38ee6421/rancor-bust-other_files.zip\n",
            "https://files.printables.com/media/prints/348013/packs/1659705_4d9b34f0-ce7b-46f5-bd55-2f7fbff27967/rancor-figure-model_files.zip\n",
            "https://files.printables.com/media/prints/348013/packs/1659706_64595c77-cbef-4bd6-ba81-41964730b0e5/rancor-figure-other_files.zip\n",
            "https://files.printables.com/media/prints/348005/packs/1659807_e0bbe826-d171-433f-a94f-b67cf663bd9b/pennywise-bust-model_files.zip\n",
            "https://files.printables.com/media/prints/348005/packs/1659808_3851b9b5-6002-4f01-94d4-33a0048af0e0/pennywise-bust-other_files.zip\n",
            "https://files.printables.com/media/prints/348000/packs/1659777_5eba4cd7-10fa-4457-86de-347d82795da7/barghest-bust-ldr-model_files.zip\n",
            "https://files.printables.com/media/prints/348000/packs/1659778_5beb45a0-3cdf-433b-b716-117e2cf1be2e/barghest-bust-ldr-other_files.zip\n",
            "https://files.printables.com/media/prints/347996/packs/1659707_4d8a4920-b90a-41e7-bfdf-66a3fd099c14/gorr-the-god-butcher-model_files.zip\n",
            "https://files.printables.com/media/prints/347996/packs/1659708_2a607039-11dd-485a-b554-977d56737a1f/gorr-the-god-butcher-other_files.zip\n",
            "https://files.printables.com/media/prints/347994/packs/1659709_e3370ef9-99fd-4d6a-a1ed-e7f85c91eec2/the-mandalorian-bust-model_files.zip\n",
            "https://files.printables.com/media/prints/347994/packs/1659710_72f1bc28-8a90-4a1c-b604-345757887146/the-mandalorian-bust-other_files.zip\n",
            "https://files.printables.com/media/prints/347989/packs/1659711_812b3070-9d4d-4254-80ad-2163c3707263/treebeard-bust-model_files.zip\n",
            "https://files.printables.com/media/prints/347989/packs/1659712_139094ca-9578-4780-a71b-2792ff92bf53/treebeard-bust-other_files.zip\n",
            "https://files.printables.com/media/prints/347979/packs/1659713_68b3fc08-349c-4ca3-b30e-c0334fcbc587/ryuk-death-note-model_files.zip\n",
            "https://files.printables.com/media/prints/347979/packs/1659714_065ea84a-c88b-41e9-8754-862df0ec8398/ryuk-death-note-other_files.zip\n",
            "https://files.printables.com/media/prints/347974/packs/1659715_fc4a50e0-2dbb-418a-8806-3029f08aa2d6/king-of-the-dead-bust-lotr-model_files.zip\n",
            "https://files.printables.com/media/prints/347974/packs/1659716_c4630cb4-b3b4-4666-9f1a-28dd9d6de91e/king-of-the-dead-bust-lotr-other_files.zip\n",
            "https://files.printables.com/media/prints/347887/packs/1659717_aa8ba1c6-132c-46b0-b695-bc0cdcfb956e/witch-king-of-angmar-bust-lotr-model_files.zip\n",
            "https://files.printables.com/media/prints/347887/packs/1659718_db8c01a7-78f0-4aad-a975-f8e73e9ecde3/witch-king-of-angmar-bust-lotr-other_files.zip\n",
            "https://files.printables.com/media/prints/347873/packs/1659719_db3e4cc2-ce4c-4244-a0b7-21e75dc66701/malenia-bust-elden-ring-model_files.zip\n",
            "https://files.printables.com/media/prints/347873/packs/1659720_61461962-42ec-423d-b041-2c1a02f88e57/malenia-bust-elden-ring-other_files.zip\n",
            "https://files.printables.com/media/prints/347859/packs/1659721_0f4ddadc-dc6d-4343-a300-fcdb6152aa06/saruman-bust-lotr-model_files.zip\n",
            "https://files.printables.com/media/prints/347859/packs/1659722_d59bcc59-3b11-4c54-8d7f-e86da8e78bdd/saruman-bust-lotr-other_files.zip\n",
            "https://files.printables.com/media/prints/347855/packs/1659723_4bc77e23-9f93-40bf-9f0f-74632fa45a11/cave-troll-bust-lotr-model_files.zip\n",
            "https://files.printables.com/media/prints/347855/packs/1659724_5d87ba88-8e41-43e7-a583-7d137ab665cc/cave-troll-bust-lotr-other_files.zip\n",
            "https://files.printables.com/media/prints/347847/packs/1659725_8ab77780-bf8a-4408-9dfd-976a88dcadb7/battle-troll-bust-lotr-model_files.zip\n",
            "https://files.printables.com/media/prints/347847/packs/1659726_d0cf6018-a3c1-4cc7-bc79-f1d849e7d969/battle-troll-bust-lotr-other_files.zip\n",
            "https://files.printables.com/media/prints/347829/packs/1659727_6358988f-fa1b-4d45-b890-df8b9bc5fd60/venom-snake-bust-model_files.zip\n",
            "https://files.printables.com/media/prints/347829/packs/1659728_140998ce-bd86-452d-996d-d91048f2383a/venom-snake-bust-other_files.zip\n",
            "https://files.printables.com/media/prints/347783/packs/1659773_778fa894-5ca9-48bc-91b6-d1762bf37692/tyrael-figure-diablo-model_files.zip\n",
            "https://files.printables.com/media/prints/347783/packs/1659774_d62cad7c-c0f4-4057-9e0d-b4988cfb674a/tyrael-figure-diablo-other_files.zip\n",
            "https://files.printables.com/media/prints/347747/packs/1659729_d1963f59-f0d4-4c6b-b677-cccd912d5ae7/tyrael-bust-diablo-model_files.zip\n",
            "https://files.printables.com/media/prints/347747/packs/1659730_03d7d802-cb34-4259-b646-46f7f2429a5b/tyrael-bust-diablo-other_files.zip\n",
            "https://files.printables.com/media/prints/347740/packs/1659731_1bdebb01-5cf0-4a61-ac3d-c3131d4f259f/the-comedian-watchmen-model_files.zip\n",
            "https://files.printables.com/media/prints/347740/packs/1659732_8bcdedb6-61ab-4919-a076-b7262a7a3276/the-comedian-watchmen-other_files.zip\n",
            "https://files.printables.com/media/prints/347732/packs/1659733_859823ca-2bcd-42d7-a450-8a04f16233c5/abyss-watcher-figure-model_files.zip\n",
            "https://files.printables.com/media/prints/347732/packs/1659734_26aadcb2-dc40-442c-9239-a5520b605bd5/abyss-watcher-figure-other_files.zip\n",
            "https://files.printables.com/media/prints/347705/packs/1659739_4a901f6d-c880-416f-8736-a82703d7e93a/old-man-logan-bust-model_files.zip\n",
            "https://files.printables.com/media/prints/347705/packs/1659740_6b897a1c-2dc8-4471-bc1e-d6961bf68657/old-man-logan-bust-other_files.zip\n",
            "https://files.printables.com/media/prints/347694/packs/1659737_cfe6e2ac-024d-4b26-bcc3-9b2eaef1ad2d/moon-knight-bust-model_files.zip\n",
            "https://files.printables.com/media/prints/347694/packs/1659738_e836754c-3b27-4460-bb42-7661c274189b/moon-knight-bust-other_files.zip\n",
            "https://files.printables.com/media/prints/347686/packs/1659741_2eaec9a1-b380-40a7-8b8a-1f20eb8f24bc/dragon-slayer-ornstein-figure-model_files.zip\n",
            "https://files.printables.com/media/prints/347686/packs/1659742_d31aca22-f0ec-40e8-83c9-83df8cdb3ac1/dragon-slayer-ornstein-figure-other_files.zip\n",
            "https://files.printables.com/media/prints/345264/packs/1659743_89aac825-5373-4301-ac88-e0b6ebe314a9/boba-fett-bust-model_files.zip\n",
            "https://files.printables.com/media/prints/345264/packs/1659744_c5d3faea-f0cd-4a47-bd95-6a721c6c25de/boba-fett-bust-other_files.zip\n",
            "https://files.printables.com/media/prints/345265/packs/1659745_a4a1748e-6b45-429f-bf90-aed1b0d78a18/guldan-bust-model_files.zip\n",
            "https://files.printables.com/media/prints/345265/packs/1659746_81563ff4-ec9e-490d-ae0b-7b12df473693/guldan-bust-other_files.zip\n",
            "https://files.printables.com/media/prints/345266/packs/1659753_a57503fa-5c99-4e37-8167-853d8ea7746f/spirit-spider-model_files.zip\n",
            "https://files.printables.com/media/prints/345266/packs/1659754_a2cfa7ee-b51d-4bfd-9457-d8d7c6544f43/spirit-spider-other_files.zip\n",
            "https://files.printables.com/media/prints/347660/packs/1659755_01b12f2b-4512-46b9-95fa-da5da54b2666/diablo-bust-model_files.zip\n",
            "https://files.printables.com/media/prints/347660/packs/1659756_dc64d4a3-7182-446a-b073-b9f6061b690e/diablo-bust-other_files.zip\n",
            "https://files.printables.com/media/prints/345262/packs/1659757_4a746ca2-e0fc-490d-8349-79528241c345/darth-maul-bust-model_files.zip\n",
            "https://files.printables.com/media/prints/345262/packs/1659758_7b61c183-817c-4af4-b5f0-955657e0793b/darth-maul-bust-other_files.zip\n",
            "https://files.printables.com/media/prints/345261/packs/1659759_b7547463-6e41-47c7-8da2-3ba616a7e67d/darth-maul-bust-model_files.zip\n",
            "https://files.printables.com/media/prints/345261/packs/1659760_13caddff-e2a6-4b92-9bd2-1213742d21cb/darth-maul-bust-other_files.zip\n"
          ]
        }
      ],
      "source": [
        "#@title Downloader Printables\n",
        "\n",
        "URL_MODELS = 'https://www.printables.com/social/61-fotis-mint/models' #@param {type:\"string\"}\n",
        "SAVE_PATH = '/content/drive/MyDrive/Modelos3D' #@param {type:\"string\"}\n",
        "from google.colab import output; import os\n",
        "\n",
        "os.chdir(SAVE_PATH)\n",
        "\n",
        "import requests\n",
        "import shutil\n",
        "from time import sleep\n",
        "from selenium import webdriver\n",
        "from selenium.webdriver import Chrome\n",
        "from selenium.webdriver.chrome.options import Options\n",
        "from selenium.webdriver.chrome import service as fs\n",
        "from selenium.webdriver.support import expected_conditions as EC\n",
        "from selenium.webdriver.common.by import By\n",
        "from selenium.webdriver.support.wait import WebDriverWait\n",
        "from selenium.common.exceptions import NoSuchElementException\n",
        "from selenium.common.exceptions import TimeoutException\n",
        "from selenium.common.exceptions import ElementClickInterceptedException\n",
        "from selenium.common.exceptions import ElementNotInteractableException\n",
        "\n",
        "mobile_emulation = {\n",
        "  \"deviceMetrics\": { \"width\": 375, \"height\": 812, \"pixelRatio\": 3.0 },\n",
        "  \"userAgent\": \"Mozilla/5.0 (Linux; Android 4.2.1; en-us; Nexus 5 Build/JOP40D) AppleWebKit/535.19 (KHTML, like Gecko) Chrome/18.0.1025.166 Mobile Safari/535.19\",\n",
        "  \"touch\": \"true\"\n",
        "}\n",
        "\n",
        "chrome_options = webdriver.ChromeOptions()\n",
        "chrome_options.add_argument('--headless')\n",
        "chrome_options.add_argument('--no-sandbox')\n",
        "chrome_options.add_argument('--disable-dev-shm-usage')\n",
        "chrome_options.add_experimental_option(\"mobileEmulation\", mobile_emulation)\n",
        "browser = webdriver.Chrome(chrome_options=chrome_options)\n",
        "browser.get(URL_MODELS)\n",
        "\n",
        "WebDriverWait(browser, 5).until(EC.presence_of_element_located((By.XPATH, r\"//button[contains(text(), 'I am OK with that')]\"))).click()\n",
        "\n",
        "while True:\n",
        "  browser.execute_script(\"window.scrollBy(0,10000)\") \n",
        "  try:\n",
        "    WebDriverWait(browser, 2).until(EC.presence_of_element_located((By.XPATH, r\"//span[contains(text(), 'All models loaded')]\")))\n",
        "    break\n",
        "  except:\n",
        "    pass\n",
        "\n",
        "link_modelos = []\n",
        "modelos = browser.find_elements(By.XPATH, \"//a[@class='link clamp-two-lines']\")\n",
        "for modelo in modelos:\n",
        "  print(modelo.get_attribute('href'))\n",
        "  link_modelos.append(modelo.get_attribute('href'))\n",
        "\n",
        "output.clear()\n",
        "\n",
        "link_arquivos = []\n",
        "for arquivo in link_modelos:\n",
        "  try:\n",
        "    browser.get(arquivo)\n",
        "\n",
        "    try:\n",
        "      WebDriverWait(browser, 10).until(EC.presence_of_element_located((By.XPATH, r\"//span[contains(text(), 'Download')]\"))).click()\n",
        "    except:\n",
        "      pass\n",
        "\n",
        "    try:\n",
        "      WebDriverWait(browser, 10).until(EC.presence_of_element_located((By.XPATH, r\"//a[@class='btn btn-outline']\")))\n",
        "      arquivos = browser.find_elements(By.XPATH, \"//a[@class='btn btn-outline']\")\n",
        "      for arquivo in arquivos:\n",
        "        print(arquivo.get_attribute('href'))\n",
        "        link_arquivos.append(arquivo.get_attribute('href'))\n",
        "    except:\n",
        "      pass\n",
        "\n",
        "  except:\n",
        "    pass\n",
        "\n",
        "output.clear()\n",
        "\n",
        "for url in link_arquivos: \n",
        "  res = requests.get(url, stream=True)\n",
        "  filename = url.split('/')[-1]\n",
        "  if res.status_code == 200:\n",
        "      with open(filename, 'wb') as fh:\n",
        "          res.raw.decode_content\n",
        "          shutil.copyfileobj(res.raw, fh)\n",
        "\n",
        "output.clear()\n",
        "\n",
        "print(\"Download Finalizado, verifique na pasta informada\")\n",
        "%ls"
      ]
    },
    {
      "cell_type": "code",
      "execution_count": 5,
      "metadata": {
        "id": "13Boq8vl0ObO",
        "cellView": "form",
        "colab": {
          "base_uri": "https://localhost:8080/"
        },
        "outputId": "ce5ed309-ff12-4f45-c4c1-edb91d8b2881"
      },
      "outputs": [
        {
          "output_type": "stream",
          "name": "stdout",
          "text": [
            "PING : 18 ms\n",
            "DOWNLOAD : 1674 Mbps\n",
            "UPLOAD : 754 Mbps\n"
          ]
        }
      ],
      "source": [
        "#@title Teste de Velocidade \n",
        "!pip install speedtest-cli\n",
        "from google.colab import output; import speedtest\n",
        "\n",
        "s = speedtest.Speedtest()\n",
        "s.get_servers()\n",
        "s.get_best_server()\n",
        "\n",
        "ping = round(s.results.ping)\n",
        "velocidade_download = round(s.download(threads=None)*(10**-6))\n",
        "velocidade_upload = round(s.upload(threads=None)*(10**-6))\n",
        "\n",
        "output.clear()\n",
        "\n",
        "print('PING : {} ms\\nDOWNLOAD : {} Mbps\\nUPLOAD : {} Mbps'.format(ping, velocidade_download, velocidade_upload))"
      ]
    }
  ],
  "metadata": {
    "colab": {
      "provenance": []
    },
    "kernelspec": {
      "display_name": "Python 3",
      "name": "python3"
    },
    "language_info": {
      "name": "python"
    }
  },
  "nbformat": 4,
  "nbformat_minor": 0
}
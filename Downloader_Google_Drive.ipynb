{
  "cells": [
    {
      "cell_type": "markdown",
      "metadata": {
        "id": "view-in-github",
        "colab_type": "text"
      },
      "source": [
        "<a href=\"https://colab.research.google.com/github/opastorello/Colab-Tools/blob/main/Downloader_Google_Drive.ipynb\" target=\"_parent\"><img src=\"https://colab.research.google.com/assets/colab-badge.svg\" alt=\"Open In Colab\"/></a>"
      ]
    },
    {
      "cell_type": "code",
      "execution_count": null,
      "metadata": {
        "colab": {
          "background_save": true
        },
        "id": "FkIxwFhEKyht"
      },
      "outputs": [],
      "source": [
        "#@title Monte o Google Drive\n",
        "from google.colab import drive\n",
        "\n",
        "drive.mount('/content/drive', force_remount=True)"
      ]
    },
    {
      "cell_type": "code",
      "execution_count": null,
      "metadata": {
        "id": "sA6Us8NFLXAR"
      },
      "outputs": [],
      "source": [
        "#@title Baixar torrent\n",
        "from google.colab import output; import os\n",
        "\n",
        "if not os.path.isfile('/usr/bin/qbittorrent-nox'):\n",
        "    !apt install qbittorrent-nox\n",
        "\n",
        "SAVE_PATH = '/content/drive/Shareddrives/Cursos/Torrents' #@param {type:\"string\"}\n",
        "#@markdown > *Observação: não encerre o colab logo após terminar o torrent. Leva tempo para escrever no GDrive*\n",
        "\n",
        "if not os.path.isdir(SAVE_PATH):\n",
        "    print('Save path invalid')\n",
        "else:\n",
        "    !mkdir -p -m 666 /{content/qBittorrent,root/{.qBittorrent_temp,.config/qBittorrent}} && curl -s https://pastebin.com/raw/zn6HBgHz -o /root/.config/qBittorrent/qBittorrent.conf\n",
        "    with open('/root/.config/qBittorrent/qBittorrent.conf', 'r') as f:\n",
        "        content = f.read().replace('%SavePath%', SAVE_PATH)\n",
        "    with open('/root/.config/qBittorrent/qBittorrent.conf', 'w') as f:\n",
        "        f.write(content)\n",
        "    \n",
        "    output.clear()\n",
        "    !qbittorrent-nox -d --webui-port=4444\n",
        "    print(output.eval_js(\"google.colab.kernel.proxyPort(4444)\"))\n",
        "    while True:pass"
      ]
    },
    {
      "cell_type": "code",
      "execution_count": null,
      "metadata": {
        "id": "FNaBW25szxZ9"
      },
      "outputs": [],
      "source": [
        "#@title Link direto para o Google Drive\n",
        "from google.colab import output; import os\n",
        "link = \"\" #@param {type:\"string\"}\n",
        "path = '/content/drive/Shareddrives/Cursos/Torrents' #@param {type:\"string\"}\n",
        "\n",
        "if not os.path.isdir(path):\n",
        "    print('Save path invalid')\n",
        "else:\n",
        "  os.chdir(path)\n",
        "  !wget -c $link"
      ]
    },
    {
      "cell_type": "code",
      "execution_count": null,
      "metadata": {
        "id": "13Boq8vl0ObO"
      },
      "outputs": [],
      "source": [
        "#@title Teste de Velocidade \n",
        "!pip install speedtest-cli\n",
        "from google.colab import output; import speedtest\n",
        "\n",
        "s = speedtest.Speedtest()\n",
        "s.get_servers()\n",
        "s.get_best_server()\n",
        "\n",
        "ping = round(s.results.ping)\n",
        "velocidade_download = round(s.download(threads=None)*(10**-6))\n",
        "velocidade_upload = round(s.upload(threads=None)*(10**-6))\n",
        "\n",
        "output.clear()\n",
        "\n",
        "print('PING : {} ms\\nDOWNLOAD : {} Mbps\\nUPLOAD : {} Mbps'.format(ping, velocidade_download, velocidade_upload))"
      ]
    }
  ],
  "metadata": {
    "colab": {
      "provenance": [],
      "include_colab_link": true
    },
    "kernelspec": {
      "display_name": "Python 3",
      "name": "python3"
    }
  },
  "nbformat": 4,
  "nbformat_minor": 0
}